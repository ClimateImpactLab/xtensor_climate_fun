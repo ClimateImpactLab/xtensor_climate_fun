{
 "cells": [
  {
   "cell_type": "code",
   "execution_count": 1,
   "metadata": {
    "collapsed": true
   },
   "outputs": [],
   "source": [
    "import numpy as np\n",
    "import xtensor_climate_fun as xt\n",
    "\n",
    "from IPython.display import display"
   ]
  },
  {
   "cell_type": "markdown",
   "metadata": {},
   "source": [
    "# Load `xtensor::snyder_edd`"
   ]
  },
  {
   "cell_type": "code",
   "execution_count": 2,
   "metadata": {
    "collapsed": false
   },
   "outputs": [
    {
     "name": "stdout",
     "output_type": "stream",
     "text": [
      "snyder_edd(arg0: numpy.ndarray[float], arg1: numpy.ndarray[float], arg2: float) -> numpy.ndarray[float]\n",
      "\n",
      "Return the snyder EDD\n",
      "\n"
     ]
    }
   ],
   "source": [
    "print(xt.snyder_edd.__doc__)"
   ]
  },
  {
   "cell_type": "code",
   "execution_count": 3,
   "metadata": {
    "collapsed": true
   },
   "outputs": [],
   "source": [
    "def py_snyder_edd(tasmin, tasmax, threshold):\n",
    "\n",
    "    # compute useful quantities for use in the transformation\n",
    "    snyder_mean = ((tasmax + tasmin)/2)\n",
    "    snyder_width = ((tasmax - tasmin)/2)\n",
    "    snyder_theta = np.arcsin( (threshold - snyder_mean)/snyder_width )\n",
    "\n",
    "    # the trasnformation is computed using numpy arrays, taking advantage of\n",
    "    # numpy's second where clause. Note that in the current dev build of\n",
    "    # xarray, xr.where allows this functionality. As soon as this goes live,\n",
    "    # this block can be replaced with xarray\n",
    "    res = np.where(\n",
    "        tasmin < threshold,\n",
    "        np.where(\n",
    "            tasmax > threshold,\n",
    "            ((snyder_mean - threshold) * (np.pi/2 - snyder_theta)\n",
    "                + (snyder_width * np.cos(snyder_theta))) / np.pi,\n",
    "            0),\n",
    "        snyder_mean - threshold)\n",
    "\n",
    "    return res"
   ]
  },
  {
   "cell_type": "code",
   "execution_count": 4,
   "metadata": {
    "collapsed": false
   },
   "outputs": [
    {
     "name": "stderr",
     "output_type": "stream",
     "text": [
      "//anaconda/envs/xtensor/lib/python3.5/site-packages/ipykernel/__main__.py:6: RuntimeWarning: invalid value encountered in arcsin\n"
     ]
    },
    {
     "data": {
      "text/plain": [
       "array([[ 5,  6,  7,  8,  9],\n",
       "       [10, 11, 12, 13, 14],\n",
       "       [15, 16, 17, 18, 19]])"
      ]
     },
     "metadata": {},
     "output_type": "display_data"
    },
    {
     "data": {
      "text/plain": [
       "array([[15, 16, 17, 18, 19],\n",
       "       [20, 21, 22, 23, 24],\n",
       "       [25, 26, 27, 28, 29]])"
      ]
     },
     "metadata": {},
     "output_type": "display_data"
    },
    {
     "data": {
      "text/plain": [
       "array([[  1.59154943,   2.12348782,   2.72065891,   3.38773784,   4.1355986 ],\n",
       "       [  5.        ,   6.        ,   7.        ,   8.        ,   9.        ],\n",
       "       [ 10.        ,  11.        ,  12.        ,  13.        ,  14.        ]])"
      ]
     },
     "metadata": {},
     "output_type": "display_data"
    },
    {
     "data": {
      "text/plain": [
       "array([[  1.59154943,   2.12348782,   2.72065891,   3.38773784,   4.1355986 ],\n",
       "       [  5.        ,   6.        ,   7.        ,   8.        ,   9.        ],\n",
       "       [ 10.        ,  11.        ,  12.        ,  13.        ,  14.        ]])"
      ]
     },
     "metadata": {},
     "output_type": "display_data"
    }
   ],
   "source": [
    "a = np.arange(15).reshape(3, 5) + 5\n",
    "b = a + 10\n",
    "edd_xt = xt.snyder_edd(a, b, 10)\n",
    "edd_py = py_snyder_edd(a, b, 10)\n",
    "display(a)\n",
    "display(b)\n",
    "display(edd_xt)\n",
    "display(edd_py)"
   ]
  },
  {
   "cell_type": "markdown",
   "metadata": {},
   "source": [
    "# Performance test python vs xtensor"
   ]
  },
  {
   "cell_type": "code",
   "execution_count": 5,
   "metadata": {
    "collapsed": false
   },
   "outputs": [],
   "source": [
    "tasmin = np.random.random((1440, 720, 10))*15+273.15\n",
    "tasmax = tasmin + 10"
   ]
  },
  {
   "cell_type": "code",
   "execution_count": 6,
   "metadata": {
    "collapsed": false
   },
   "outputs": [
    {
     "name": "stderr",
     "output_type": "stream",
     "text": [
      "//anaconda/envs/xtensor/lib/python3.5/site-packages/ipykernel/__main__.py:6: RuntimeWarning: invalid value encountered in arcsin\n"
     ]
    },
    {
     "name": "stdout",
     "output_type": "stream",
     "text": [
      "804 ms ± 40.2 ms per loop (mean ± std. dev. of 7 runs, 1 loop each)\n"
     ]
    }
   ],
   "source": [
    "% timeit py_snyder_edd(tasmin, tasmax, 303.15)"
   ]
  },
  {
   "cell_type": "code",
   "execution_count": 7,
   "metadata": {
    "collapsed": false
   },
   "outputs": [
    {
     "name": "stdout",
     "output_type": "stream",
     "text": [
      "491 ms ± 6.62 ms per loop (mean ± std. dev. of 7 runs, 1 loop each)\n"
     ]
    }
   ],
   "source": [
    "% timeit xt.snyder_edd(tasmin, tasmax, 303.15)"
   ]
  }
 ],
 "metadata": {
  "anaconda-cloud": {},
  "kernelspec": {
   "display_name": "Python [conda env:xtensor]",
   "language": "python",
   "name": "conda-env-xtensor-py"
  },
  "language_info": {
   "codemirror_mode": {
    "name": "ipython",
    "version": 3
   },
   "file_extension": ".py",
   "mimetype": "text/x-python",
   "name": "python",
   "nbconvert_exporter": "python",
   "pygments_lexer": "ipython3",
   "version": "3.5.4"
  }
 },
 "nbformat": 4,
 "nbformat_minor": 2
}
