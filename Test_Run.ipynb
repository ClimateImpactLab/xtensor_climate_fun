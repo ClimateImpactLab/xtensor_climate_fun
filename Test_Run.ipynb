{
 "cells": [
  {
   "cell_type": "code",
   "execution_count": 1,
   "metadata": {
    "collapsed": true
   },
   "outputs": [],
   "source": [
    "import numpy as np\n",
    "import xtensor_climate_fun as xt\n",
    "\n",
    "from IPython.display import display"
   ]
  },
  {
   "cell_type": "markdown",
   "metadata": {},
   "source": [
    "### Function example1"
   ]
  },
  {
   "cell_type": "code",
   "execution_count": 2,
   "metadata": {
    "collapsed": false
   },
   "outputs": [
    {
     "name": "stdout",
     "output_type": "stream",
     "text": [
      "snyder_edd(arg0: numpy.ndarray[float], arg1: numpy.ndarray[float], arg2: float) -> numpy.ndarray[float]\n",
      "\n",
      "Return the snyder EDD\n",
      "\n"
     ]
    }
   ],
   "source": [
    "print(xt.snyder_edd.__doc__)"
   ]
  },
  {
   "cell_type": "code",
   "execution_count": 3,
   "metadata": {
    "collapsed": false
   },
   "outputs": [
    {
     "data": {
      "text/plain": [
       "array([[ 5,  6,  7,  8,  9],\n",
       "       [10, 11, 12, 13, 14],\n",
       "       [15, 16, 17, 18, 19]])"
      ]
     },
     "metadata": {},
     "output_type": "display_data"
    },
    {
     "data": {
      "text/plain": [
       "array([[15, 16, 17, 18, 19],\n",
       "       [20, 21, 22, 23, 24],\n",
       "       [25, 26, 27, 28, 29]])"
      ]
     },
     "metadata": {},
     "output_type": "display_data"
    },
    {
     "data": {
      "text/plain": [
       "array([[  1.59154943,   2.12348782,   2.72065891,   3.38773784,   4.1355986 ],\n",
       "       [  5.        ,   6.        ,   7.        ,   8.        ,   9.        ],\n",
       "       [ 10.        ,  11.        ,  12.        ,  13.        ,  14.        ]])"
      ]
     },
     "metadata": {},
     "output_type": "display_data"
    }
   ],
   "source": [
    "a = np.arange(15).reshape(3, 5) + 5\n",
    "b = a + 10\n",
    "edd = xt.snyder_edd(a, b, 10)\n",
    "display(a)\n",
    "display(b)\n",
    "display(edd)"
   ]
  },
  {
   "cell_type": "code",
   "execution_count": 4,
   "metadata": {
    "collapsed": true
   },
   "outputs": [],
   "source": [
    "def py_snyder_edd(tasmin, tasmax, threshold):\n",
    "\n",
    "    # compute useful quantities for use in the transformation\n",
    "    snyder_mean = ((tasmax + tasmin)/2)\n",
    "    snyder_width = ((tasmax - tasmin)/2)\n",
    "    snyder_theta = np.arcsin( (threshold - snyder_mean)/snyder_width )\n",
    "\n",
    "    # the trasnformation is computed using numpy arrays, taking advantage of\n",
    "    # numpy's second where clause. Note that in the current dev build of\n",
    "    # xarray, xr.where allows this functionality. As soon as this goes live,\n",
    "    # this block can be replaced with xarray\n",
    "    res = np.where(\n",
    "        tasmin < threshold,\n",
    "        np.where(\n",
    "            tasmax > threshold,\n",
    "            ((snyder_mean - threshold) * (np.pi/2 - snyder_theta)\n",
    "                + (snyder_width * np.cos(snyder_theta))) / np.pi,\n",
    "            0),\n",
    "        snyder_mean - threshold)\n",
    "\n",
    "    return res"
   ]
  },
  {
   "cell_type": "code",
   "execution_count": 5,
   "metadata": {
    "collapsed": false
   },
   "outputs": [],
   "source": [
    "tasmin = np.random.random((1000, 5000, 10))*15\n",
    "tasmax = tasmin + 5"
   ]
  },
  {
   "cell_type": "code",
   "execution_count": 6,
   "metadata": {
    "collapsed": false
   },
   "outputs": [
    {
     "name": "stderr",
     "output_type": "stream",
     "text": [
      "//anaconda/envs/xtensor/lib/python3.5/site-packages/ipykernel/__main__.py:6: RuntimeWarning: invalid value encountered in arcsin\n"
     ]
    },
    {
     "name": "stdout",
     "output_type": "stream",
     "text": [
      "6.46 s ± 455 ms per loop (mean ± std. dev. of 7 runs, 1 loop each)\n"
     ]
    }
   ],
   "source": [
    "% timeit py_snyder_edd(tasmin, tasmax, 10)"
   ]
  },
  {
   "cell_type": "code",
   "execution_count": 7,
   "metadata": {
    "collapsed": false
   },
   "outputs": [
    {
     "name": "stdout",
     "output_type": "stream",
     "text": [
      "5.06 s ± 176 ms per loop (mean ± std. dev. of 7 runs, 1 loop each)\n"
     ]
    }
   ],
   "source": [
    "% timeit xt.snyder_edd(tasmin, tasmax, 10)"
   ]
  },
  {
   "cell_type": "markdown",
   "metadata": {},
   "source": [
    "### Function example2"
   ]
  },
  {
   "cell_type": "code",
   "execution_count": 8,
   "metadata": {
    "collapsed": false
   },
   "outputs": [
    {
     "name": "stdout",
     "output_type": "stream",
     "text": [
      "example2(arg0: numpy.ndarray[float]) -> numpy.ndarray[float]\n",
      "\n",
      "Return the the specified array plus 2\n",
      "\n"
     ]
    }
   ],
   "source": [
    "print(xt.example2.__doc__)"
   ]
  },
  {
   "cell_type": "code",
   "execution_count": 9,
   "metadata": {
    "collapsed": false
   },
   "outputs": [
    {
     "data": {
      "text/plain": [
       "array([[ 0,  1,  2,  3,  4],\n",
       "       [ 5,  6,  7,  8,  9],\n",
       "       [10, 11, 12, 13, 14]])"
      ]
     },
     "metadata": {},
     "output_type": "display_data"
    },
    {
     "data": {
      "text/plain": [
       "array([[  2.,   3.,   4.,   5.,   6.],\n",
       "       [  7.,   8.,   9.,  10.,  11.],\n",
       "       [ 12.,  13.,  14.,  15.,  16.]])"
      ]
     },
     "metadata": {},
     "output_type": "display_data"
    }
   ],
   "source": [
    "a = np.arange(15).reshape(3, 5)\n",
    "b = xt.example2(a)\n",
    "display(a)\n",
    "display(b)"
   ]
  },
  {
   "cell_type": "markdown",
   "metadata": {},
   "source": [
    "### Function readme_example1"
   ]
  },
  {
   "cell_type": "code",
   "execution_count": 10,
   "metadata": {
    "collapsed": false
   },
   "outputs": [
    {
     "name": "stdout",
     "output_type": "stream",
     "text": [
      "readme_example1(arg0: numpy.ndarray[float]) -> float\n",
      "\n",
      "Accumulate the sines of all the values of the specified array\n",
      "\n"
     ]
    }
   ],
   "source": [
    "print(xt.readme_example1.__doc__)"
   ]
  },
  {
   "cell_type": "code",
   "execution_count": 11,
   "metadata": {
    "collapsed": false,
    "scrolled": false
   },
   "outputs": [
    {
     "data": {
      "text/plain": [
       "array([ 0.        ,  0.03173326,  0.06346652,  0.09519978,  0.12693304,\n",
       "        0.1586663 ,  0.19039955,  0.22213281,  0.25386607,  0.28559933,\n",
       "        0.31733259,  0.34906585,  0.38079911,  0.41253237,  0.44426563,\n",
       "        0.47599889,  0.50773215,  0.53946541,  0.57119866,  0.60293192,\n",
       "        0.63466518,  0.66639844,  0.6981317 ,  0.72986496,  0.76159822,\n",
       "        0.79333148,  0.82506474,  0.856798  ,  0.88853126,  0.92026451,\n",
       "        0.95199777,  0.98373103,  1.01546429,  1.04719755,  1.07893081,\n",
       "        1.11066407,  1.14239733,  1.17413059,  1.20586385,  1.23759711,\n",
       "        1.26933037,  1.30106362,  1.33279688,  1.36453014,  1.3962634 ,\n",
       "        1.42799666,  1.45972992,  1.49146318,  1.52319644,  1.5549297 ,\n",
       "        1.58666296,  1.61839622,  1.65012947,  1.68186273,  1.71359599,\n",
       "        1.74532925,  1.77706251,  1.80879577,  1.84052903,  1.87226229,\n",
       "        1.90399555,  1.93572881,  1.96746207,  1.99919533,  2.03092858,\n",
       "        2.06266184,  2.0943951 ,  2.12612836,  2.15786162,  2.18959488,\n",
       "        2.22132814,  2.2530614 ,  2.28479466,  2.31652792,  2.34826118,\n",
       "        2.37999443,  2.41172769,  2.44346095,  2.47519421,  2.50692747,\n",
       "        2.53866073,  2.57039399,  2.60212725,  2.63386051,  2.66559377,\n",
       "        2.69732703,  2.72906028,  2.76079354,  2.7925268 ,  2.82426006,\n",
       "        2.85599332,  2.88772658,  2.91945984,  2.9511931 ,  2.98292636,\n",
       "        3.01465962,  3.04639288,  3.07812614,  3.10985939,  3.14159265])"
      ]
     },
     "metadata": {},
     "output_type": "display_data"
    },
    {
     "data": {
      "text/plain": [
       "63.02006849910228"
      ]
     },
     "metadata": {},
     "output_type": "display_data"
    },
    {
     "data": {
      "text/plain": [
       "63.02006849910227"
      ]
     },
     "metadata": {},
     "output_type": "display_data"
    }
   ],
   "source": [
    "PI = np.pi\n",
    "a = np.linspace(0, PI, 100)\n",
    "b = xt.readme_example1(a)\n",
    "display(a)\n",
    "display(np.sin(a).sum())\n",
    "display(b)"
   ]
  },
  {
   "cell_type": "markdown",
   "metadata": {},
   "source": [
    "### Function vectorize_example1"
   ]
  },
  {
   "cell_type": "code",
   "execution_count": 12,
   "metadata": {
    "collapsed": false
   },
   "outputs": [
    {
     "name": "stdout",
     "output_type": "stream",
     "text": [
      "vectorize_example1(arg0: numpy.ndarray[float], arg1: numpy.ndarray[float]) -> numpy.ndarray[float]\n",
      "\n",
      "Add the sine and and cosine of the two specified values\n",
      "\n"
     ]
    }
   ],
   "source": [
    "print(xt.vectorize_example1.__doc__)"
   ]
  },
  {
   "cell_type": "code",
   "execution_count": 13,
   "metadata": {
    "collapsed": false
   },
   "outputs": [
    {
     "data": {
      "text/plain": [
       "array([ 0.        ,  0.34906585,  0.6981317 ,  1.04719755,  1.3962634 ,\n",
       "        1.74532925,  2.0943951 ,  2.44346095,  2.7925268 ,  3.14159265])"
      ]
     },
     "metadata": {},
     "output_type": "display_data"
    },
    {
     "data": {
      "text/plain": [
       "array([ 0.        ,  0.6981317 ,  1.3962634 ,  2.0943951 ,  2.7925268 ,\n",
       "        3.4906585 ,  4.1887902 ,  4.88692191,  5.58505361,  6.28318531])"
      ]
     },
     "metadata": {},
     "output_type": "display_data"
    },
    {
     "data": {
      "text/plain": [
       "array([ 1.        ,  1.10806459,  0.81643579,  0.3660254 ,  0.04511513,\n",
       "        0.04511513,  0.3660254 ,  0.81643579,  1.10806459,  1.        ])"
      ]
     },
     "metadata": {},
     "output_type": "display_data"
    },
    {
     "data": {
      "text/plain": [
       "array([ True,  True,  True,  True,  True,  True,  True,  True,  True,  True], dtype=bool)"
      ]
     },
     "metadata": {},
     "output_type": "display_data"
    }
   ],
   "source": [
    "PI = np.pi\n",
    "a = np.linspace(0, PI, 10)\n",
    "b = np.linspace(0, 2*PI, 10)\n",
    "c = xt.vectorize_example1(a, b)\n",
    "d = np.sin(a)+np.cos(b)\n",
    "display(a)\n",
    "display(b)\n",
    "display(c)\n",
    "display(np.isclose(c, d))"
   ]
  }
 ],
 "metadata": {
  "anaconda-cloud": {},
  "kernelspec": {
   "display_name": "Python [conda env:xtensor]",
   "language": "python",
   "name": "conda-env-xtensor-py"
  },
  "language_info": {
   "codemirror_mode": {
    "name": "ipython",
    "version": 3
   },
   "file_extension": ".py",
   "mimetype": "text/x-python",
   "name": "python",
   "nbconvert_exporter": "python",
   "pygments_lexer": "ipython3",
   "version": "3.5.4"
  }
 },
 "nbformat": 4,
 "nbformat_minor": 2
}
